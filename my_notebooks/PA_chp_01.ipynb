{
 "cells": [
  {
   "cell_type": "markdown",
   "id": "32a87228-dfdc-487b-a731-469fbdd7bb3b",
   "metadata": {},
   "source": [
    "## Imports"
   ]
  },
  {
   "cell_type": "code",
   "execution_count": 25,
   "id": "ed6ea49c-dcb6-4404-9d45-589d9ec2e71d",
   "metadata": {},
   "outputs": [],
   "source": [
    "from pathlib import Path\n",
    "\n",
    "import re\n",
    "\n",
    "from fractions import Fraction\n",
    "import numpy as np\n",
    "import pandas as pd\n",
    "pd.set_option(\"display.max_columns\", 50)\n",
    "pd.set_option(\"display.max_rows\", 50)\n",
    "\n",
    "import matplotlib.pyplot as plt\n",
    "import seaborn as sns\n",
    "import arviz as az\n",
    "import scipy.stats as stats\n",
    "from scipy.stats import entropy\n",
    "from scipy.optimize import minimize\n",
    "import cvxpy as cp\n",
    "import pymc3 as pm"
   ]
  },
  {
   "cell_type": "code",
   "execution_count": 2,
   "id": "e8ff92c4-0909-479c-985b-1ee978eed75e",
   "metadata": {},
   "outputs": [],
   "source": [
    "DATA_PATH = Path(\"../data\")"
   ]
  },
  {
   "cell_type": "markdown",
   "id": "27df4fc6-a1d2-4157-aaf7-1a06f6afb5a7",
   "metadata": {},
   "source": [
    "## DIY sampler"
   ]
  },
  {
   "cell_type": "markdown",
   "id": "905f7f85-2055-4c2b-aeeb-c20acbe61885",
   "metadata": {},
   "source": [
    "### One approach\n",
    "\n",
    "Here we fix alpha and beta and use a separately generated probability."
   ]
  },
  {
   "cell_type": "code",
   "execution_count": 44,
   "id": "757691fc-61ee-4059-b604-54cc043d18aa",
   "metadata": {},
   "outputs": [],
   "source": [
    "# Data\n",
    "y_obs = stats.bernoulli(p=0.7).rvs(100)"
   ]
  },
  {
   "cell_type": "code",
   "execution_count": 43,
   "id": "e36c6a82-a4b8-46eb-8f7a-c69248913756",
   "metadata": {},
   "outputs": [],
   "source": [
    "# Function to calculate pointwise posterior\n",
    "def calc_post(data, prob, alpha, beta):\n",
    "    if 0 <= prob <= 1:\n",
    "        prior = stats.beta(a=alpha, b=beta).pdf(prob)\n",
    "        likel = stats.bernoulli(p=prob).pmf(data).prod()\n",
    "        post = prior * likel\n",
    "    else: \n",
    "        post = -np.inf\n",
    "    return post"
   ]
  },
  {
   "cell_type": "code",
   "execution_count": 46,
   "id": "187b74c9-3636-45eb-bac4-e68a9f8c56ca",
   "metadata": {},
   "outputs": [],
   "source": [
    "# Implement algorithm\n",
    "# Fixed parameters\n",
    "n_samples = 10000\n",
    "alpha = beta = 1  # Beta is equivalent to uniform distribution\n",
    "sd = 0.05 # This determines the size of the sampling step\n",
    "\n",
    "# Initial sampling parameters\n",
    "prob_now = 0.5\n",
    "trace_1 = {\"prob\": np.zeros(n_samples)}\n",
    "post_now = calc_post(y_obs, prob_init, alpha, beta)\n",
    "\n",
    "# sample posterior\n",
    "for i in range(n_samples):\n",
    "    prob_new = stats.norm(loc=prob_now, scale=sd).rvs(1) # propose new probability value with a step from previous one\n",
    "    post_new = calc_post(y_obs, prob_new, alpha, beta)\n",
    "    prob_acc = post_new/post_now\n",
    "    if prob_acc > stats.uniform(loc=0, scale=1).rvs(1):\n",
    "        prob_now = prob_new\n",
    "        post_now = post_new\n",
    "    trace_1[\"prob\"][i] = prob_now"
   ]
  },
  {
   "cell_type": "markdown",
   "id": "78ff3f08-e953-497f-8ef0-d293ef2e73ab",
   "metadata": {},
   "source": [
    "### Other approach\n",
    "\n",
    "Here we define the problem in terms of priors for alpha and beta"
   ]
  },
  {
   "cell_type": "code",
   "execution_count": 59,
   "id": "39367297-2269-4dcc-a743-725d98d7e883",
   "metadata": {},
   "outputs": [],
   "source": [
    "def calc_post_2(data, alpha, beta):\n",
    "    if (alpha > 0) & (beta > 0):\n",
    "        prob = stats.beta(a=alpha, b=beta).rvs(1)\n",
    "        prior = stats.beta(a=alpha, b=beta).pdf(prob)\n",
    "        likel = stats.bernoulli(p=prob).pmf(data).prod()\n",
    "        post = prior * likel\n",
    "    else:\n",
    "        post = -np.inf\n",
    "    return post"
   ]
  },
  {
   "cell_type": "code",
   "execution_count": 70,
   "id": "a69b5e1c-ee40-42c8-89d6-4c48ddebdb37",
   "metadata": {},
   "outputs": [],
   "source": [
    "# Fixed parameter\n",
    "n_samples = 100000\n",
    "proposal_jump_size = 1000\n",
    "\n",
    "# Start parameter\n",
    "alpha_now = 1\n",
    "beta_now = 1\n",
    "trace_2 = {\n",
    "    \"alpha\": np.zeros(n_samples),\n",
    "    \"beta\": np.zeros(n_samples)\n",
    "}\n",
    "post_now = calc_post_2(y_obs, alpha_now, beta_now)\n",
    "\n",
    "for i in range(n_samples):\n",
    "    alpha_new = stats.norm(alpha_now, proposal_jump_size).rvs(1)\n",
    "    beta_new = stats.norm(beta_now, proposal_jump_size).rvs(1)\n",
    "    post_new = calc_post_2(y_obs, alpha_new, beta_new)\n",
    "    prob_acc = post_new/post_now\n",
    "    \n",
    "    if prob_acc > stats.uniform(0, 1).rvs(1):\n",
    "        alpha_now = alpha_new\n",
    "        beta_now = beta_new\n",
    "        post_now = post_new\n",
    "        \n",
    "    trace_2[\"alpha\"][i] = alpha_now\n",
    "    trace_2[\"beta\"][i] = beta_now"
   ]
  },
  {
   "cell_type": "markdown",
   "id": "f0710c10-2490-44af-936a-e0a154d1b49f",
   "metadata": {},
   "source": [
    "### Figures"
   ]
  },
  {
   "cell_type": "code",
   "execution_count": 47,
   "id": "5f6b074b-1fb2-4fcf-a1fa-e0fb9e1e2dd3",
   "metadata": {},
   "outputs": [
    {
     "data": {
      "text/plain": [
       "(array([2.66731409e-03, 2.66731409e-03, 2.13385127e-02, 9.86906213e-02,\n",
       "        5.46799388e-01, 2.77133934e+00, 7.31110792e+00, 9.99175858e+00,\n",
       "        5.21993367e+00, 7.06838234e-01]),\n",
       " array([0.54307353, 0.58056443, 0.61805533, 0.65554623, 0.69303712,\n",
       "        0.73052802, 0.76801892, 0.80550982, 0.84300072, 0.88049161,\n",
       "        0.91798251]),\n",
       " <BarContainer object of 10 artists>)"
      ]
     },
     "execution_count": 47,
     "metadata": {},
     "output_type": "execute_result"
    },
    {
     "data": {
      "image/png": "[encoded data removed]",
      "text/plain": [
       "<Figure size 432x288 with 2 Axes>"
      ]
     },
     "metadata": {
      "needs_background": "light"
     },
     "output_type": "display_data"
    }
   ],
   "source": [
    "fig, axes = plt.subplots(len(trace_1), 2, sharey=True)\n",
    "axes[0].plot(trace_1[key],\n",
    "               color=\"C0\",\n",
    "               linestyle=\"-\",\n",
    "               marker=\"\"\n",
    "              )\n",
    "axes[1].hist(trace_1[key],\n",
    "                color=\"C0\",\n",
    "                orientation=\"horizontal\",\n",
    "                density=True\n",
    "               )"
   ]
  },
  {
   "cell_type": "code",
   "execution_count": 73,
   "id": "9155d642-3120-4c56-b4d0-845270323720",
   "metadata": {},
   "outputs": [
    {
     "data": {
      "image/png": "[encoded data removed]",
      "text/plain": [
       "<Figure size 432x288 with 4 Axes>"
      ]
     },
     "metadata": {
      "needs_background": "light"
     },
     "output_type": "display_data"
    }
   ],
   "source": [
    "fig, axes = plt.subplots(len(trace_2), 2, sharey=True)\n",
    "for i, key in enumerate(trace_2.keys()):\n",
    "    axes[i, 0].plot(trace_2[key],\n",
    "                   color=\"C0\",\n",
    "                   linestyle=\"-\",\n",
    "                   marker=\"\"\n",
    "                  )\n",
    "    axes[i, 1].hist(trace_2[key],\n",
    "                    color=\"C0\",\n",
    "                    orientation=\"horizontal\",\n",
    "                    density=True\n",
    "                   )"
   ]
  },
  {
   "cell_type": "code",
   "execution_count": 27,
   "id": "522e5a6e-d384-437c-8e3e-573db786a09d",
   "metadata": {},
   "outputs": [
    {
     "data": {
      "text/plain": [
       "array([[<AxesSubplot:title={'center':'alpha'}>,\n",
       "        <AxesSubplot:title={'center':'alpha'}>],\n",
       "       [<AxesSubplot:title={'center':'beta'}>,\n",
       "        <AxesSubplot:title={'center':'beta'}>]], dtype=object)"
      ]
     },
     "execution_count": 27,
     "metadata": {},
     "output_type": "execute_result"
    },
    {
     "data": {
      "image/png": "[encoded data removed]",
      "text/plain": [
       "<Figure size 864x288 with 4 Axes>"
      ]
     },
     "metadata": {
      "needs_background": "light"
     },
     "output_type": "display_data"
    }
   ],
   "source": [
    "az.plot_trace(data=trace, var_names=[\"alpha\", \"beta\"])"
   ]
  },
  {
   "cell_type": "code",
   "execution_count": 30,
   "id": "aa68e61e-b399-4838-b059-075ba875782a",
   "metadata": {},
   "outputs": [
    {
     "data": {
      "text/html": [
       "<div>\n",
       "<style scoped>\n",
       "    .dataframe tbody tr th:only-of-type {\n",
       "        vertical-align: middle;\n",
       "    }\n",
       "\n",
       "    .dataframe tbody tr th {\n",
       "        vertical-align: top;\n",
       "    }\n",
       "\n",
       "    .dataframe thead th {\n",
       "        text-align: right;\n",
       "    }\n",
       "</style>\n",
       "<table border=\"1\" class=\"dataframe\">\n",
       "  <thead>\n",
       "    <tr style=\"text-align: right;\">\n",
       "      <th></th>\n",
       "      <th>mean</th>\n",
       "      <th>sd</th>\n",
       "      <th>hdi_3%</th>\n",
       "      <th>hdi_97%</th>\n",
       "    </tr>\n",
       "  </thead>\n",
       "  <tbody>\n",
       "    <tr>\n",
       "      <th>alpha</th>\n",
       "      <td>4.21</td>\n",
       "      <td>2.57</td>\n",
       "      <td>1.21</td>\n",
       "      <td>9.33</td>\n",
       "    </tr>\n",
       "    <tr>\n",
       "      <th>beta</th>\n",
       "      <td>1.61</td>\n",
       "      <td>0.67</td>\n",
       "      <td>0.57</td>\n",
       "      <td>3.12</td>\n",
       "    </tr>\n",
       "  </tbody>\n",
       "</table>\n",
       "</div>"
      ],
      "text/plain": [
       "       mean    sd  hdi_3%  hdi_97%\n",
       "alpha  4.21  2.57    1.21     9.33\n",
       "beta   1.61  0.67    0.57     3.12"
      ]
     },
     "execution_count": 30,
     "metadata": {},
     "output_type": "execute_result"
    }
   ],
   "source": [
    "az.summary(trace, kind=\"stats\", round_to=2)"
   ]
  },
  {
   "cell_type": "markdown",
   "id": "78b0b066-f929-4974-9bd8-ea957eb4a58b",
   "metadata": {},
   "source": [
    "## Maximum entropy priors"
   ]
  },
  {
   "cell_type": "code",
   "execution_count": 67,
   "id": "41086336-3170-4ad8-9bb5-ab9becc6ad24",
   "metadata": {},
   "outputs": [],
   "source": [
    "constraints = [\n",
    "    [\n",
    "        {\"type\": \"eq\", \"fun\": lambda x: np.sum(x) - 1}\n",
    "    ],\n",
    "    [\n",
    "        {\"type\": \"eq\", \"fun\": lambda x: np.sum(x) - 1},\n",
    "        {\"type\": \"eq\", \"fun\": lambda x: 1.5 - (x @ np.arange(1, 7))}\n",
    "    ],\n",
    "    [\n",
    "        {\"type\": \"eq\", \"fun\": lambda x: np.sum(x) - 1},\n",
    "        {\"type\": \"eq\", \"fun\": lambda x: np.sum(x[[2, 3]]) - 0.8}\n",
    "    ]\n",
    "]"
   ]
  },
  {
   "cell_type": "code",
   "execution_count": 68,
   "id": "4fa5f676-b1e1-4182-8609-7715a4079261",
   "metadata": {},
   "outputs": [
    {
     "data": {
      "image/png": "[encoded data removed]",
      "text/plain": [
       "<Figure size 432x432 with 1 Axes>"
      ]
     },
     "metadata": {
      "needs_background": "light"
     },
     "output_type": "display_data"
    }
   ],
   "source": [
    "fig, ax = plt.subplots(figsize=(6, 6))\n",
    "x_array = np.arange(1, 7)\n",
    "max_ent = []\n",
    "for i, cons in enumerate(constraints):\n",
    "    fit = minimize(lambda x: -entropy(x),\n",
    "                   x0=[1/6] * 6,\n",
    "                   constraints=cons,\n",
    "                   bounds=[(0., 1.)] * 6, \n",
    "                   options={\"maxiter\": 500}\n",
    "                  )\n",
    "    x_freq = fit[\"x\"]\n",
    "    max_ent.append(entropy(x_freq))\n",
    "    ax.plot(x_array, \n",
    "            x_freq, \n",
    "            \"o--\",\n",
    "            color=f\"C{i}\",\n",
    "            lw=2)"
   ]
  },
  {
   "cell_type": "code",
   "execution_count": 69,
   "id": "ac78242f-95aa-4f05-b62e-922549206c79",
   "metadata": {},
   "outputs": [
    {
     "data": {
      "text/plain": [
       "     fun: -1.332179040209978\n",
       "     jac: array([-1.66355374, -1.66355376,  0.41588825,  0.41588838, -1.66355376,\n",
       "       -1.663551  ])\n",
       " message: 'Optimization terminated successfully'\n",
       "    nfev: 22\n",
       "     nit: 3\n",
       "    njev: 3\n",
       "  status: 0\n",
       " success: True\n",
       "       x: array([0.04999997, 0.04999997, 0.39999997, 0.40000003, 0.04999997,\n",
       "       0.0500001 ])"
      ]
     },
     "execution_count": 69,
     "metadata": {},
     "output_type": "execute_result"
    }
   ],
   "source": [
    "fit"
   ]
  },
  {
   "cell_type": "markdown",
   "id": "363521a6-3a04-401b-b472-24235e90e8e2",
   "metadata": {},
   "source": [
    "### Test other random distributions"
   ]
  },
  {
   "cell_type": "code",
   "execution_count": 88,
   "id": "ffe11091-7029-4fc7-8721-8562decf28fd",
   "metadata": {},
   "outputs": [],
   "source": [
    "n_samples = 100_000\n",
    "entropies = np.zeros(shape=(3, n_samples))\n",
    "for i in range(n_samples):\n",
    "    tot = 0\n",
    "    x_freq = np.zeros(len(x_array))\n",
    "    x_ = np.random.choice(x_array, size=6, replace=False)\n",
    "    for x_i in x_[:-1]:\n",
    "        x_i_prob = np.random.uniform(0, 1-tot)\n",
    "        x_freq[x_i-1] = x_i_prob\n",
    "        tot += x_i_prob\n",
    "    x_freq[x_[-1]-1] = 1 - tot\n",
    "    H = entropy(x_freq)\n",
    "    entropies[0, i] = H\n",
    "    if abs(1.5 - np.sum(x_freq * x_)) < 0.01:\n",
    "        entropies[1, i] = H\n",
    "    prob_34 = np.sum(x_freq[np.argwhere((x_ == 3) | (x_ == 4)).ravel()])\n",
    "    if abs(0.8 - prob_34) < 0.01:\n",
    "        entropies[2, i] = H"
   ]
  },
  {
   "cell_type": "code",
   "execution_count": 89,
   "id": "251fe998-dd09-4213-850b-1e2573d77df3",
   "metadata": {},
   "outputs": [
    {
     "data": {
      "image/png": "[encoded data removed]",
      "text/plain": [
       "<Figure size 648x360 with 3 Axes>"
      ]
     },
     "metadata": {
      "needs_background": "light"
     },
     "output_type": "display_data"
    }
   ],
   "source": [
    "fig, axes = plt.subplots(1, entropies.shape[0], figsize=(9, 5))\n",
    "axes = axes.ravel()\n",
    "for i in range(entropies.shape[0]):\n",
    "    to_plot = np.ma.array(entropies[i, :], mask=(entropies[i, :] == 0))\n",
    "    sns.kdeplot(\n",
    "        ax=axes[i],\n",
    "        x=to_plot,\n",
    "        color=f\"C{i}\",\n",
    "        clip=[to_plot.min(), to_plot.max()]\n",
    "    )\n",
    "    axes[i].axvline(x=max_ent[i],\n",
    "                    linestyle=\"--\",\n",
    "                    color=\"silver\"\n",
    "                   )              \n",
    "plt.tight_layout()"
   ]
  },
  {
   "cell_type": "markdown",
   "id": "849be29f-a8e3-4a6a-9b7d-4a0edec833f2",
   "metadata": {},
   "source": [
    "## Random - test optimization methods"
   ]
  },
  {
   "cell_type": "code",
   "execution_count": 312,
   "id": "d34c0429-0183-492e-a5d5-7f937d5ba3d8",
   "metadata": {},
   "outputs": [],
   "source": [
    "nutrients = [\"calories\", \"protein_g\", \"calcium_g\", \"iron_mg\", \"vitamin_a_iu\", \n",
    "             \"vitamin_b1_mg\", \"vitamin_b2_mg\", \"niacin_mg\", \"vitamin_c_mg\"]\n",
    "required_levels = [2000, 70, 0.8, 12, 5, 1.8, 2.7, 18, 75]"
   ]
  },
  {
   "cell_type": "code",
   "execution_count": 315,
   "id": "e6465012-baf9-430e-a477-d9c6a1720063",
   "metadata": {},
   "outputs": [],
   "source": [
    "df_stig = pd.read_csv(DATA_PATH / \"stigler.csv\")"
   ]
  },
  {
   "cell_type": "code",
   "execution_count": 316,
   "id": "880d88dc-c8e7-4740-a67d-380de15cbb53",
   "metadata": {},
   "outputs": [
    {
     "data": {
      "text/html": [
       "<div>\n",
       "<style scoped>\n",
       "    .dataframe tbody tr th:only-of-type {\n",
       "        vertical-align: middle;\n",
       "    }\n",
       "\n",
       "    .dataframe tbody tr th {\n",
       "        vertical-align: top;\n",
       "    }\n",
       "\n",
       "    .dataframe thead th {\n",
       "        text-align: right;\n",
       "    }\n",
       "</style>\n",
       "<table border=\"1\" class=\"dataframe\">\n",
       "  <thead>\n",
       "    <tr style=\"text-align: right;\">\n",
       "      <th></th>\n",
       "      <th>commodity</th>\n",
       "      <th>unit</th>\n",
       "      <th>price_cents</th>\n",
       "      <th>calories</th>\n",
       "      <th>protein_g</th>\n",
       "      <th>calcium_g</th>\n",
       "      <th>iron_mg</th>\n",
       "      <th>vitamin_a_iu</th>\n",
       "      <th>vitamin_b1_mg</th>\n",
       "      <th>vitamin_b2_mg</th>\n",
       "      <th>niacin_mg</th>\n",
       "      <th>vitamin_c_mg</th>\n",
       "    </tr>\n",
       "  </thead>\n",
       "  <tbody>\n",
       "    <tr>\n",
       "      <th>0</th>\n",
       "      <td>Wheat Flour (Enriched)</td>\n",
       "      <td>10 lb.</td>\n",
       "      <td>36.0</td>\n",
       "      <td>44.7</td>\n",
       "      <td>1411</td>\n",
       "      <td>2.0</td>\n",
       "      <td>365</td>\n",
       "      <td>0.0</td>\n",
       "      <td>55.4</td>\n",
       "      <td>33.3</td>\n",
       "      <td>441</td>\n",
       "      <td>0</td>\n",
       "    </tr>\n",
       "    <tr>\n",
       "      <th>1</th>\n",
       "      <td>Macaroni</td>\n",
       "      <td>1 lb.</td>\n",
       "      <td>14.1</td>\n",
       "      <td>11.6</td>\n",
       "      <td>418</td>\n",
       "      <td>0.7</td>\n",
       "      <td>54</td>\n",
       "      <td>0.0</td>\n",
       "      <td>3.2</td>\n",
       "      <td>1.9</td>\n",
       "      <td>68</td>\n",
       "      <td>0</td>\n",
       "    </tr>\n",
       "    <tr>\n",
       "      <th>2</th>\n",
       "      <td>Wheat Cereal (Enriched)</td>\n",
       "      <td>28 oz.</td>\n",
       "      <td>24.2</td>\n",
       "      <td>11.8</td>\n",
       "      <td>377</td>\n",
       "      <td>14.4</td>\n",
       "      <td>175</td>\n",
       "      <td>0.0</td>\n",
       "      <td>14.4</td>\n",
       "      <td>8.8</td>\n",
       "      <td>114</td>\n",
       "      <td>0</td>\n",
       "    </tr>\n",
       "    <tr>\n",
       "      <th>3</th>\n",
       "      <td>Corn Flakes</td>\n",
       "      <td>8 oz.</td>\n",
       "      <td>7.1</td>\n",
       "      <td>11.4</td>\n",
       "      <td>252</td>\n",
       "      <td>0.1</td>\n",
       "      <td>56</td>\n",
       "      <td>0.0</td>\n",
       "      <td>13.5</td>\n",
       "      <td>2.3</td>\n",
       "      <td>68</td>\n",
       "      <td>0</td>\n",
       "    </tr>\n",
       "    <tr>\n",
       "      <th>4</th>\n",
       "      <td>Corn Meal</td>\n",
       "      <td>1 lb.</td>\n",
       "      <td>4.6</td>\n",
       "      <td>36.0</td>\n",
       "      <td>897</td>\n",
       "      <td>1.7</td>\n",
       "      <td>99</td>\n",
       "      <td>30.9</td>\n",
       "      <td>17.4</td>\n",
       "      <td>7.9</td>\n",
       "      <td>106</td>\n",
       "      <td>0</td>\n",
       "    </tr>\n",
       "  </tbody>\n",
       "</table>\n",
       "</div>"
      ],
      "text/plain": [
       "                 commodity    unit  price_cents  calories  protein_g  \\\n",
       "0   Wheat Flour (Enriched)  10 lb.         36.0      44.7       1411   \n",
       "1                 Macaroni   1 lb.         14.1      11.6        418   \n",
       "2  Wheat Cereal (Enriched)  28 oz.         24.2      11.8        377   \n",
       "3              Corn Flakes   8 oz.          7.1      11.4        252   \n",
       "4                Corn Meal   1 lb.          4.6      36.0        897   \n",
       "\n",
       "   calcium_g  iron_mg  vitamin_a_iu  vitamin_b1_mg  vitamin_b2_mg  niacin_mg  \\\n",
       "0        2.0      365           0.0           55.4           33.3        441   \n",
       "1        0.7       54           0.0            3.2            1.9         68   \n",
       "2       14.4      175           0.0           14.4            8.8        114   \n",
       "3        0.1       56           0.0           13.5            2.3         68   \n",
       "4        1.7       99          30.9           17.4            7.9        106   \n",
       "\n",
       "   vitamin_c_mg  \n",
       "0             0  \n",
       "1             0  \n",
       "2             0  \n",
       "3             0  \n",
       "4             0  "
      ]
     },
     "execution_count": 316,
     "metadata": {},
     "output_type": "execute_result"
    }
   ],
   "source": [
    "df_stig.head()"
   ]
  },
  {
   "cell_type": "code",
   "execution_count": 317,
   "id": "2cbd2ff3-fb7c-43d6-b87f-9cdb6e90da69",
   "metadata": {},
   "outputs": [],
   "source": [
    "def get_unit_type(unit):\n",
    "    unit_type = unit.split(\" \")[1]\n",
    "    return unit_type\n",
    "\n",
    "def get_unit_value(unit):\n",
    "    unit_val = float(unit.split(\" \")[0])\n",
    "    return unit_val"
   ]
  },
  {
   "cell_type": "code",
   "execution_count": 318,
   "id": "67ca6e7d-9205-4896-b4cc-e24e2147707e",
   "metadata": {},
   "outputs": [],
   "source": [
    "df_stig = (df_stig\n",
    "           .assign(\n",
    "               unit_val=lambda x:x[\"unit\"].apply(get_unit_value),\n",
    "               unit_type=lambda x:x[\"unit\"].apply(get_unit_type)\n",
    "           )\n",
    "           .drop(\n",
    "               [\"unit\"],\n",
    "               axis=1\n",
    "           )\n",
    "          )"
   ]
  },
  {
   "cell_type": "code",
   "execution_count": 319,
   "id": "c089b77d-4093-412c-8e20-33f429cb6520",
   "metadata": {},
   "outputs": [],
   "source": [
    "df_stig[nutrients] = df_stig[nutrients] / df_stig[\"unit_val\"].values.reshape(-1, 1)"
   ]
  },
  {
   "cell_type": "code",
   "execution_count": 320,
   "id": "b8905812-20b2-4045-b5c8-f27f1202d48d",
   "metadata": {},
   "outputs": [],
   "source": [
    "df_stig[\"price_cents\"] = df_stig[\"price_cents\"] / df_stig[\"unit_val\"]"
   ]
  },
  {
   "cell_type": "code",
   "execution_count": 321,
   "id": "cd9ed2d1-1f52-40e2-bdf3-a5c812f1b17b",
   "metadata": {},
   "outputs": [
    {
     "data": {
      "text/html": [
       "<div>\n",
       "<style scoped>\n",
       "    .dataframe tbody tr th:only-of-type {\n",
       "        vertical-align: middle;\n",
       "    }\n",
       "\n",
       "    .dataframe tbody tr th {\n",
       "        vertical-align: top;\n",
       "    }\n",
       "\n",
       "    .dataframe thead th {\n",
       "        text-align: right;\n",
       "    }\n",
       "</style>\n",
       "<table border=\"1\" class=\"dataframe\">\n",
       "  <thead>\n",
       "    <tr style=\"text-align: right;\">\n",
       "      <th></th>\n",
       "      <th>commodity</th>\n",
       "      <th>price_cents</th>\n",
       "      <th>calories</th>\n",
       "      <th>protein_g</th>\n",
       "      <th>calcium_g</th>\n",
       "      <th>iron_mg</th>\n",
       "      <th>vitamin_a_iu</th>\n",
       "      <th>vitamin_b1_mg</th>\n",
       "      <th>vitamin_b2_mg</th>\n",
       "      <th>niacin_mg</th>\n",
       "      <th>vitamin_c_mg</th>\n",
       "      <th>unit_val</th>\n",
       "      <th>unit_type</th>\n",
       "    </tr>\n",
       "  </thead>\n",
       "  <tbody>\n",
       "    <tr>\n",
       "      <th>0</th>\n",
       "      <td>Wheat Flour (Enriched)</td>\n",
       "      <td>3.600000</td>\n",
       "      <td>4.470000</td>\n",
       "      <td>141.100000</td>\n",
       "      <td>0.200000</td>\n",
       "      <td>36.50</td>\n",
       "      <td>0.0</td>\n",
       "      <td>5.540000</td>\n",
       "      <td>3.330000</td>\n",
       "      <td>44.100000</td>\n",
       "      <td>0.0</td>\n",
       "      <td>10.0</td>\n",
       "      <td>lb.</td>\n",
       "    </tr>\n",
       "    <tr>\n",
       "      <th>1</th>\n",
       "      <td>Macaroni</td>\n",
       "      <td>14.100000</td>\n",
       "      <td>11.600000</td>\n",
       "      <td>418.000000</td>\n",
       "      <td>0.700000</td>\n",
       "      <td>54.00</td>\n",
       "      <td>0.0</td>\n",
       "      <td>3.200000</td>\n",
       "      <td>1.900000</td>\n",
       "      <td>68.000000</td>\n",
       "      <td>0.0</td>\n",
       "      <td>1.0</td>\n",
       "      <td>lb.</td>\n",
       "    </tr>\n",
       "    <tr>\n",
       "      <th>2</th>\n",
       "      <td>Wheat Cereal (Enriched)</td>\n",
       "      <td>0.864286</td>\n",
       "      <td>0.421429</td>\n",
       "      <td>13.464286</td>\n",
       "      <td>0.514286</td>\n",
       "      <td>6.25</td>\n",
       "      <td>0.0</td>\n",
       "      <td>0.514286</td>\n",
       "      <td>0.314286</td>\n",
       "      <td>4.071429</td>\n",
       "      <td>0.0</td>\n",
       "      <td>28.0</td>\n",
       "      <td>oz.</td>\n",
       "    </tr>\n",
       "    <tr>\n",
       "      <th>3</th>\n",
       "      <td>Corn Flakes</td>\n",
       "      <td>0.887500</td>\n",
       "      <td>1.425000</td>\n",
       "      <td>31.500000</td>\n",
       "      <td>0.012500</td>\n",
       "      <td>7.00</td>\n",
       "      <td>0.0</td>\n",
       "      <td>1.687500</td>\n",
       "      <td>0.287500</td>\n",
       "      <td>8.500000</td>\n",
       "      <td>0.0</td>\n",
       "      <td>8.0</td>\n",
       "      <td>oz.</td>\n",
       "    </tr>\n",
       "    <tr>\n",
       "      <th>4</th>\n",
       "      <td>Corn Meal</td>\n",
       "      <td>4.600000</td>\n",
       "      <td>36.000000</td>\n",
       "      <td>897.000000</td>\n",
       "      <td>1.700000</td>\n",
       "      <td>99.00</td>\n",
       "      <td>30.9</td>\n",
       "      <td>17.400000</td>\n",
       "      <td>7.900000</td>\n",
       "      <td>106.000000</td>\n",
       "      <td>0.0</td>\n",
       "      <td>1.0</td>\n",
       "      <td>lb.</td>\n",
       "    </tr>\n",
       "  </tbody>\n",
       "</table>\n",
       "</div>"
      ],
      "text/plain": [
       "                 commodity  price_cents   calories   protein_g  calcium_g  \\\n",
       "0   Wheat Flour (Enriched)     3.600000   4.470000  141.100000   0.200000   \n",
       "1                 Macaroni    14.100000  11.600000  418.000000   0.700000   \n",
       "2  Wheat Cereal (Enriched)     0.864286   0.421429   13.464286   0.514286   \n",
       "3              Corn Flakes     0.887500   1.425000   31.500000   0.012500   \n",
       "4                Corn Meal     4.600000  36.000000  897.000000   1.700000   \n",
       "\n",
       "   iron_mg  vitamin_a_iu  vitamin_b1_mg  vitamin_b2_mg   niacin_mg  \\\n",
       "0    36.50           0.0       5.540000       3.330000   44.100000   \n",
       "1    54.00           0.0       3.200000       1.900000   68.000000   \n",
       "2     6.25           0.0       0.514286       0.314286    4.071429   \n",
       "3     7.00           0.0       1.687500       0.287500    8.500000   \n",
       "4    99.00          30.9      17.400000       7.900000  106.000000   \n",
       "\n",
       "   vitamin_c_mg  unit_val unit_type  \n",
       "0           0.0      10.0       lb.  \n",
       "1           0.0       1.0       lb.  \n",
       "2           0.0      28.0       oz.  \n",
       "3           0.0       8.0       oz.  \n",
       "4           0.0       1.0       lb.  "
      ]
     },
     "execution_count": 321,
     "metadata": {},
     "output_type": "execute_result"
    }
   ],
   "source": [
    "df_stig.head()"
   ]
  },
  {
   "cell_type": "markdown",
   "id": "985e48e4-44fd-493f-8494-c5671b49e3fd",
   "metadata": {},
   "source": [
    "### With scipy minimize"
   ]
  },
  {
   "cell_type": "code",
   "execution_count": 322,
   "id": "4e2499c2-0326-4e93-b17c-9f9770c00b58",
   "metadata": {},
   "outputs": [],
   "source": [
    "# Somehow defining the constraints in a loop doesn't work\n",
    "constraints = []\n",
    "for (nutrient, req_lev) in zip(nutrients, required_levels):\n",
    "    constraints.append({\"type\": \"ineq\", \"fun\": lambda x: (x @ df_stig[nutrient].values) - req_lev})"
   ]
  },
  {
   "cell_type": "code",
   "execution_count": 323,
   "id": "ae4dd628-1586-469a-aceb-25bba08f3837",
   "metadata": {},
   "outputs": [],
   "source": [
    "constraints_3 = [\n",
    "    {\"type\": \"ineq\", \"fun\": lambda x: (x @ df_stig[nutrients[0]].values) - required_levels[0]},\n",
    "    {\"type\": \"ineq\", \"fun\": lambda x: (x @ df_stig[nutrients[1]].values) - required_levels[1]},\n",
    "    {\"type\": \"ineq\", \"fun\": lambda x: (x @ df_stig[nutrients[2]].values) - required_levels[2]},\n",
    "    {\"type\": \"ineq\", \"fun\": lambda x: (x @ df_stig[nutrients[3]].values) - required_levels[3]},\n",
    "    {\"type\": \"ineq\", \"fun\": lambda x: (x @ df_stig[nutrients[4]].values) - required_levels[4]},\n",
    "    {\"type\": \"ineq\", \"fun\": lambda x: (x @ df_stig[nutrients[5]].values) - required_levels[5]},\n",
    "    {\"type\": \"ineq\", \"fun\": lambda x: (x @ df_stig[nutrients[6]].values) - required_levels[6]},\n",
    "    {\"type\": \"ineq\", \"fun\": lambda x: (x @ df_stig[nutrients[7]].values) - required_levels[7]},\n",
    "    {\"type\": \"ineq\", \"fun\": lambda x: (x @ df_stig[nutrients[8]].values) - required_levels[8]}\n",
    "]"
   ]
  },
  {
   "cell_type": "code",
   "execution_count": 324,
   "id": "6e7aed57-c4bf-40d7-8981-df3a90584a99",
   "metadata": {},
   "outputs": [],
   "source": [
    "fit = minimize(lambda x: (x @ df_stig[\"price_cents\"].values), \n",
    "               x0=[2] * len(df_stig),\n",
    "               bounds=[(0., 300.)] * len(df_stig),\n",
    "               constraints=constraints_3)"
   ]
  },
  {
   "cell_type": "code",
   "execution_count": 325,
   "id": "8acb9dcd-3022-4d99-8d2c-7b7373d610b8",
   "metadata": {},
   "outputs": [
    {
     "data": {
      "text/plain": [
       "     fun: 255.60260031379843\n",
       "     jac: array([ 3.60000038, 14.10000038,  0.86428642,  0.88750076,  4.59999847,\n",
       "        0.35416794,  7.5       ,  7.10000038,  7.89999962,  9.10000038,\n",
       "        9.10000038, 24.80000114, 15.10000038, 11.        ,  0.46207047,\n",
       "       30.80000114, 16.10000038, 32.60000038, 24.20000076, 28.20000076,\n",
       "       17.89999962, 33.39999962, 20.30000114,  9.80000114, 39.60000038,\n",
       "       36.39999962, 29.20000076, 22.60000038, 14.60000038, 26.80000114,\n",
       "       27.60000038, 36.60000038, 30.70000076, 24.20000076, 25.60000038,\n",
       "       27.40000153, 16.        , 30.30000114, 42.30000114,  0.8125    ,\n",
       "        4.39999962,  6.10000038, 26.        , 30.90000153,  7.10000038,\n",
       "        3.70000076,  4.70000076,  7.30000114,  8.20000076,  3.60000038,\n",
       "        2.26666641,  8.10000038,  5.10000038,  6.72000122,  8.15999985,\n",
       "        8.52000046, 13.85000038,  5.        ,  0.44375038,  5.20000076,\n",
       "        6.89999962,  4.30000114,  0.7238102 , 15.70000076,  9.        ,\n",
       "        0.62666702,  7.90000153,  8.90000153,  5.89999962, 22.39999962,\n",
       "       69.60000038,  1.07500076,  2.02499962,  5.17000008,  0.57083321,\n",
       "        0.75555611, 20.5       ])\n",
       " message: 'Optimization terminated successfully'\n",
       "    nfev: 780\n",
       "     nit: 10\n",
       "    njev: 10\n",
       "  status: 0\n",
       " success: True\n",
       "       x: array([0.00000000e+00, 0.00000000e+00, 0.00000000e+00, 0.00000000e+00,\n",
       "       5.55545467e+01, 0.00000000e+00, 0.00000000e+00, 9.41185647e-11,\n",
       "       0.00000000e+00, 0.00000000e+00, 0.00000000e+00, 0.00000000e+00,\n",
       "       0.00000000e+00, 0.00000000e+00, 0.00000000e+00, 0.00000000e+00,\n",
       "       0.00000000e+00, 0.00000000e+00, 0.00000000e+00, 0.00000000e+00,\n",
       "       0.00000000e+00, 0.00000000e+00, 0.00000000e+00, 8.18100410e-11,\n",
       "       0.00000000e+00, 0.00000000e+00, 0.00000000e+00, 0.00000000e+00,\n",
       "       0.00000000e+00, 0.00000000e+00, 0.00000000e+00, 0.00000000e+00,\n",
       "       0.00000000e+00, 0.00000000e+00, 0.00000000e+00, 0.00000000e+00,\n",
       "       0.00000000e+00, 0.00000000e+00, 0.00000000e+00, 0.00000000e+00,\n",
       "       0.00000000e+00, 0.00000000e+00, 0.00000000e+00, 0.00000000e+00,\n",
       "       0.00000000e+00, 1.39690816e-02, 0.00000000e+00, 0.00000000e+00,\n",
       "       0.00000000e+00, 0.00000000e+00, 0.00000000e+00, 0.00000000e+00,\n",
       "       0.00000000e+00, 0.00000000e+00, 0.00000000e+00, 0.00000000e+00,\n",
       "       0.00000000e+00, 0.00000000e+00, 0.00000000e+00, 0.00000000e+00,\n",
       "       0.00000000e+00, 0.00000000e+00, 0.00000000e+00, 0.00000000e+00,\n",
       "       0.00000000e+00, 0.00000000e+00, 0.00000000e+00, 0.00000000e+00,\n",
       "       0.00000000e+00, 0.00000000e+00, 0.00000000e+00, 0.00000000e+00,\n",
       "       0.00000000e+00, 0.00000000e+00, 0.00000000e+00, 0.00000000e+00,\n",
       "       0.00000000e+00])"
      ]
     },
     "execution_count": 325,
     "metadata": {},
     "output_type": "execute_result"
    }
   ],
   "source": [
    "fit"
   ]
  },
  {
   "cell_type": "code",
   "execution_count": 326,
   "id": "aea34b3d-08a1-44de-b2d5-c0fe58359f75",
   "metadata": {},
   "outputs": [
    {
     "data": {
      "text/html": [
       "<div>\n",
       "<style scoped>\n",
       "    .dataframe tbody tr th:only-of-type {\n",
       "        vertical-align: middle;\n",
       "    }\n",
       "\n",
       "    .dataframe tbody tr th {\n",
       "        vertical-align: top;\n",
       "    }\n",
       "\n",
       "    .dataframe thead th {\n",
       "        text-align: right;\n",
       "    }\n",
       "</style>\n",
       "<table border=\"1\" class=\"dataframe\">\n",
       "  <thead>\n",
       "    <tr style=\"text-align: right;\">\n",
       "      <th></th>\n",
       "      <th>commodity</th>\n",
       "      <th>assigned_diet</th>\n",
       "      <th>unit_type</th>\n",
       "    </tr>\n",
       "  </thead>\n",
       "  <tbody>\n",
       "    <tr>\n",
       "      <th>4</th>\n",
       "      <td>Corn Meal</td>\n",
       "      <td>5.555455e+01</td>\n",
       "      <td>lb.</td>\n",
       "    </tr>\n",
       "    <tr>\n",
       "      <th>45</th>\n",
       "      <td>Cabbage</td>\n",
       "      <td>1.396908e-02</td>\n",
       "      <td>lb.</td>\n",
       "    </tr>\n",
       "    <tr>\n",
       "      <th>7</th>\n",
       "      <td>Rolled Oats</td>\n",
       "      <td>9.411856e-11</td>\n",
       "      <td>lb.</td>\n",
       "    </tr>\n",
       "    <tr>\n",
       "      <th>23</th>\n",
       "      <td>Lard</td>\n",
       "      <td>8.181004e-11</td>\n",
       "      <td>lb.</td>\n",
       "    </tr>\n",
       "  </tbody>\n",
       "</table>\n",
       "</div>"
      ],
      "text/plain": [
       "      commodity  assigned_diet unit_type\n",
       "4     Corn Meal   5.555455e+01       lb.\n",
       "45      Cabbage   1.396908e-02       lb.\n",
       "7   Rolled Oats   9.411856e-11       lb.\n",
       "23         Lard   8.181004e-11       lb."
      ]
     },
     "execution_count": 326,
     "metadata": {},
     "output_type": "execute_result"
    }
   ],
   "source": [
    "(df_stig\n",
    " .assign(\n",
    "     assigned_diet = fit[\"x\"]\n",
    " )\n",
    " [[\"commodity\", \"assigned_diet\", \"unit_type\"]]\n",
    " .sort_values(\n",
    "     [\"assigned_diet\"],\n",
    "     ascending=False\n",
    " )\n",
    " .query(\n",
    "     \"assigned_diet > 0\"\n",
    " )\n",
    ")"
   ]
  },
  {
   "cell_type": "markdown",
   "id": "adddc809-04d2-47bf-8f2c-9ecff4505621",
   "metadata": {},
   "source": [
    "### With cvxpy"
   ]
  },
  {
   "cell_type": "code",
   "execution_count": 303,
   "id": "f8767949-7f4e-4a31-bc71-d0aa471d607c",
   "metadata": {},
   "outputs": [],
   "source": [
    "price = df_stig[\"price_cents\"].values\n",
    "x_amounts = cp.Variable(len(price))\n",
    "obj = cp.Minimize(x_amounts @ price)\n",
    "constraints = [x_amounts >= 0]\n",
    "for (nutrient, req_lev) in zip(nutrients, required_levels):\n",
    "    constraints.append(x_amounts @ df_stig[nutrient] >= req_lev)"
   ]
  },
  {
   "cell_type": "code",
   "execution_count": 304,
   "id": "903a5be8-797c-4759-abd0-93f93e689934",
   "metadata": {},
   "outputs": [
    {
     "data": {
      "text/plain": [
       "0.716460760485235"
      ]
     },
     "execution_count": 304,
     "metadata": {},
     "output_type": "execute_result"
    }
   ],
   "source": [
    "prob = cp.Problem(objective=obj, constraints=constraints)\n",
    "prob.solve()"
   ]
  },
  {
   "cell_type": "code",
   "execution_count": 306,
   "id": "4d61b006-ed93-40eb-b946-28182a9f531d",
   "metadata": {},
   "outputs": [
    {
     "data": {
      "text/html": [
       "<div>\n",
       "<style scoped>\n",
       "    .dataframe tbody tr th:only-of-type {\n",
       "        vertical-align: middle;\n",
       "    }\n",
       "\n",
       "    .dataframe tbody tr th {\n",
       "        vertical-align: top;\n",
       "    }\n",
       "\n",
       "    .dataframe thead th {\n",
       "        text-align: right;\n",
       "    }\n",
       "</style>\n",
       "<table border=\"1\" class=\"dataframe\">\n",
       "  <thead>\n",
       "    <tr style=\"text-align: right;\">\n",
       "      <th></th>\n",
       "      <th>commodity</th>\n",
       "      <th>assigned_diet</th>\n",
       "      <th>unit_type</th>\n",
       "    </tr>\n",
       "  </thead>\n",
       "  <tbody>\n",
       "    <tr>\n",
       "      <th>68</th>\n",
       "      <td>Navy Beans, Dried</td>\n",
       "      <td>0.103067</td>\n",
       "      <td>lb.</td>\n",
       "    </tr>\n",
       "    <tr>\n",
       "      <th>45</th>\n",
       "      <td>Cabbage</td>\n",
       "      <td>0.011313</td>\n",
       "      <td>lb.</td>\n",
       "    </tr>\n",
       "    <tr>\n",
       "      <th>4</th>\n",
       "      <td>Corn Meal</td>\n",
       "      <td>0.005344</td>\n",
       "      <td>lb.</td>\n",
       "    </tr>\n",
       "    <tr>\n",
       "      <th>51</th>\n",
       "      <td>Spinach</td>\n",
       "      <td>0.005176</td>\n",
       "      <td>lb.</td>\n",
       "    </tr>\n",
       "  </tbody>\n",
       "</table>\n",
       "</div>"
      ],
      "text/plain": [
       "            commodity  assigned_diet unit_type\n",
       "68  Navy Beans, Dried       0.103067       lb.\n",
       "45            Cabbage       0.011313       lb.\n",
       "4           Corn Meal       0.005344       lb.\n",
       "51            Spinach       0.005176       lb."
      ]
     },
     "execution_count": 306,
     "metadata": {},
     "output_type": "execute_result"
    }
   ],
   "source": [
    "(df_stig\n",
    " .assign(\n",
    "     assigned_diet = x_amounts.value\n",
    " )\n",
    " [[\"commodity\", \"assigned_diet\", \"unit_type\"]]\n",
    " .query(\n",
    "     \"assigned_diet > 1E-6\"\n",
    " )\n",
    " .sort_values(\n",
    "     [\"assigned_diet\"],\n",
    "     ascending=False\n",
    " )\n",
    ")"
   ]
  }
 ],
 "metadata": {
  "kernelspec": {
   "display_name": "Python (bmcp)",
   "language": "python",
   "name": "bmcp"
  },
  "language_info": {
   "codemirror_mode": {
    "name": "ipython",
    "version": 3
   },
   "file_extension": ".py",
   "mimetype": "text/x-python",
   "name": "python",
   "nbconvert_exporter": "python",
   "pygments_lexer": "ipython3",
   "version": "3.8.13"
  }
 },
 "nbformat": 4,
 "nbformat_minor": 5
}
